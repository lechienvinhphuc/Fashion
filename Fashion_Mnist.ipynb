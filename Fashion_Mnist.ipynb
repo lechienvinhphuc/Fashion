{
  "nbformat": 4,
  "nbformat_minor": 0,
  "metadata": {
    "colab": {
      "name": "Fashion_Mnist.ipynb",
      "provenance": []
    },
    "kernelspec": {
      "name": "python3",
      "display_name": "Python 3"
    },
    "language_info": {
      "name": "python"
    }
  },
  "cells": [
    {
      "cell_type": "code",
      "execution_count": 1,
      "metadata": {
        "id": "rd1rnIcEmvyy"
      },
      "outputs": [],
      "source": [
        "#import thư viện\n",
        "import numpy as np #thư viện xử lý ma trận\n",
        "from keras.utils import np_utils # thư viện xử lý chuyển class\n",
        "from keras.datasets import fashion_mnist # gọi tập dataset thời trang\n",
        "from keras.models import Sequential # hàm chạy mô hình\n",
        "from keras.layers import Dense, Dropout # tạo mạng nơ ron\n",
        "from tensorflow.keras.optimizers import RMSprop \n",
        "import matplotlib.pyplot as plt  # thư viện dùng để vẽ"
      ]
    },
    {
      "cell_type": "code",
      "source": [
        "# chia tập dữ liệu thành 2 bộ train và test\n",
        "(x_train, y_train),(x_test,y_test) = fashion_mnist.load_data()\n"
      ],
      "metadata": {
        "colab": {
          "base_uri": "https://localhost:8080/"
        },
        "id": "B3GtphU2m0aW",
        "outputId": "d0330dc7-e78a-440d-8df9-9b40015da058"
      },
      "execution_count": 2,
      "outputs": [
        {
          "output_type": "stream",
          "name": "stdout",
          "text": [
            "Downloading data from https://storage.googleapis.com/tensorflow/tf-keras-datasets/train-labels-idx1-ubyte.gz\n",
            "32768/29515 [=================================] - 0s 0us/step\n",
            "40960/29515 [=========================================] - 0s 0us/step\n",
            "Downloading data from https://storage.googleapis.com/tensorflow/tf-keras-datasets/train-images-idx3-ubyte.gz\n",
            "26427392/26421880 [==============================] - 0s 0us/step\n",
            "26435584/26421880 [==============================] - 0s 0us/step\n",
            "Downloading data from https://storage.googleapis.com/tensorflow/tf-keras-datasets/t10k-labels-idx1-ubyte.gz\n",
            "16384/5148 [===============================================================================================] - 0s 0us/step\n",
            "Downloading data from https://storage.googleapis.com/tensorflow/tf-keras-datasets/t10k-images-idx3-ubyte.gz\n",
            "4423680/4422102 [==============================] - 0s 0us/step\n",
            "4431872/4422102 [==============================] - 0s 0us/step\n"
          ]
        }
      ]
    },
    {
      "cell_type": "code",
      "source": [
        "# xem kích thược của tập dữ liệu\n",
        "print('Kích thước x_train: ', x_train.shape)\n",
        "print('Kích thước y_train: ', y_train.shape)\n",
        "print('Kích thước x_test: ', x_test.shape)\n",
        "print('Kích thước y_test: ', y_test.shape)"
      ],
      "metadata": {
        "colab": {
          "base_uri": "https://localhost:8080/"
        },
        "id": "e0Vf-LkPm--q",
        "outputId": "664c27a6-2c1f-43b6-dfbb-45ee6da776bf"
      },
      "execution_count": 3,
      "outputs": [
        {
          "output_type": "stream",
          "name": "stdout",
          "text": [
            "Kích thước x_train:  (60000, 28, 28)\n",
            "Kích thước y_train:  (60000,)\n",
            "Kích thước x_test:  (10000, 28, 28)\n",
            "Kích thước y_test:  (10000,)\n"
          ]
        }
      ]
    },
    {
      "cell_type": "code",
      "source": [
        "#chuyển chiều của x từ 3 chiều về 2 chiều\n",
        "x_train = x_train.reshape(60000,784)\n",
        "x_test = x_test.reshape(10000,784)\n",
        "# ép kiểu\n",
        "x_train = x_train.astype('float32')\n",
        "x_test = x_test.astype('float32')\n",
        "#chuẩn hóa dữ liệu\n",
        "x_train /=255\n",
        "x_test /=255\n",
        "#chuyển y từ 1 class thành 10 class\n",
        "y_train = np_utils.to_categorical(y_train,10)\n",
        "y_test = np_utils.to_categorical(y_test,10)"
      ],
      "metadata": {
        "id": "20htAt23nDtR"
      },
      "execution_count": 4,
      "outputs": []
    },
    {
      "cell_type": "code",
      "source": [
        "#tạo mạng nơ-ron\n",
        "model = Sequential()\n",
        "model.add(Dense(512,activation='relu',input_shape=(784,)))\n",
        "model.add(Dropout(0.2))\n",
        "model.add(Dense(512,activation='relu'))\n",
        "model.add(Dropout(0.2))\n",
        "model.add(Dense(10,activation='softmax'))\n",
        "model.summary()"
      ],
      "metadata": {
        "colab": {
          "base_uri": "https://localhost:8080/"
        },
        "id": "4KvwWCepnFLj",
        "outputId": "d05228e3-b012-429c-ad6f-cda7d0e3789a"
      },
      "execution_count": 5,
      "outputs": [
        {
          "output_type": "stream",
          "name": "stdout",
          "text": [
            "Model: \"sequential\"\n",
            "_________________________________________________________________\n",
            " Layer (type)                Output Shape              Param #   \n",
            "=================================================================\n",
            " dense (Dense)               (None, 512)               401920    \n",
            "                                                                 \n",
            " dropout (Dropout)           (None, 512)               0         \n",
            "                                                                 \n",
            " dense_1 (Dense)             (None, 512)               262656    \n",
            "                                                                 \n",
            " dropout_1 (Dropout)         (None, 512)               0         \n",
            "                                                                 \n",
            " dense_2 (Dense)             (None, 10)                5130      \n",
            "                                                                 \n",
            "=================================================================\n",
            "Total params: 669,706\n",
            "Trainable params: 669,706\n",
            "Non-trainable params: 0\n",
            "_________________________________________________________________\n"
          ]
        }
      ]
    },
    {
      "cell_type": "code",
      "source": [
        "#chạy model với số lần học là 500 và độ kiên nhẫn là 100\n",
        "model.compile(loss='categorical_crossentropy',optimizer=RMSprop(), metrics=['accuracy'])\n",
        "model.compile(loss='categorical_crossentropy',optimizer=RMSprop(), metrics=['accuracy'])\n",
        "from keras.callbacks import EarlyStopping\n",
        "history = model.fit(x_train,y_train,batch_size=128,epochs=300,verbose=1,\n",
        "                    validation_split=0.2,callbacks=[EarlyStopping(monitor='val_loss',patience=100)])"
      ],
      "metadata": {
        "colab": {
          "base_uri": "https://localhost:8080/"
        },
        "id": "7pXZUrAbnHNY",
        "outputId": "c4b22160-93de-4d9a-fa79-d2538695c459"
      },
      "execution_count": 6,
      "outputs": [
        {
          "output_type": "stream",
          "name": "stdout",
          "text": [
            "Epoch 1/300\n",
            "375/375 [==============================] - 15s 35ms/step - loss: 0.5943 - accuracy: 0.7852 - val_loss: 0.4204 - val_accuracy: 0.8490\n",
            "Epoch 2/300\n",
            "375/375 [==============================] - 10s 25ms/step - loss: 0.4170 - accuracy: 0.8480 - val_loss: 0.3694 - val_accuracy: 0.8668\n",
            "Epoch 3/300\n",
            "375/375 [==============================] - 7s 19ms/step - loss: 0.3757 - accuracy: 0.8611 - val_loss: 0.3574 - val_accuracy: 0.8721\n",
            "Epoch 4/300\n",
            "375/375 [==============================] - 7s 20ms/step - loss: 0.3546 - accuracy: 0.8707 - val_loss: 0.3468 - val_accuracy: 0.8754\n",
            "Epoch 5/300\n",
            "375/375 [==============================] - 7s 19ms/step - loss: 0.3383 - accuracy: 0.8754 - val_loss: 0.3507 - val_accuracy: 0.8757\n",
            "Epoch 6/300\n",
            "375/375 [==============================] - 7s 20ms/step - loss: 0.3240 - accuracy: 0.8810 - val_loss: 0.3456 - val_accuracy: 0.8827\n",
            "Epoch 7/300\n",
            "375/375 [==============================] - 7s 20ms/step - loss: 0.3205 - accuracy: 0.8849 - val_loss: 0.3901 - val_accuracy: 0.8669\n",
            "Epoch 8/300\n",
            "375/375 [==============================] - 8s 20ms/step - loss: 0.3104 - accuracy: 0.8874 - val_loss: 0.3652 - val_accuracy: 0.8810\n",
            "Epoch 9/300\n",
            "375/375 [==============================] - 7s 20ms/step - loss: 0.3041 - accuracy: 0.8897 - val_loss: 0.3442 - val_accuracy: 0.8865\n",
            "Epoch 10/300\n",
            "375/375 [==============================] - 7s 20ms/step - loss: 0.2956 - accuracy: 0.8919 - val_loss: 0.3799 - val_accuracy: 0.8777\n",
            "Epoch 11/300\n",
            "375/375 [==============================] - 7s 20ms/step - loss: 0.2922 - accuracy: 0.8945 - val_loss: 0.3515 - val_accuracy: 0.8865\n",
            "Epoch 12/300\n",
            "375/375 [==============================] - 7s 20ms/step - loss: 0.2868 - accuracy: 0.8964 - val_loss: 0.3616 - val_accuracy: 0.8812\n",
            "Epoch 13/300\n",
            "375/375 [==============================] - 7s 20ms/step - loss: 0.2820 - accuracy: 0.8987 - val_loss: 0.4013 - val_accuracy: 0.8720\n",
            "Epoch 14/300\n",
            "375/375 [==============================] - 8s 23ms/step - loss: 0.2798 - accuracy: 0.8996 - val_loss: 0.3577 - val_accuracy: 0.8857\n",
            "Epoch 15/300\n",
            "375/375 [==============================] - 7s 20ms/step - loss: 0.2769 - accuracy: 0.9009 - val_loss: 0.3984 - val_accuracy: 0.8773\n",
            "Epoch 16/300\n",
            "375/375 [==============================] - 7s 20ms/step - loss: 0.2734 - accuracy: 0.9021 - val_loss: 0.3825 - val_accuracy: 0.8875\n",
            "Epoch 17/300\n",
            "375/375 [==============================] - 7s 20ms/step - loss: 0.2704 - accuracy: 0.9045 - val_loss: 0.3711 - val_accuracy: 0.8888\n",
            "Epoch 18/300\n",
            "375/375 [==============================] - 7s 20ms/step - loss: 0.2654 - accuracy: 0.9046 - val_loss: 0.3930 - val_accuracy: 0.8882\n",
            "Epoch 19/300\n",
            "375/375 [==============================] - 7s 20ms/step - loss: 0.2620 - accuracy: 0.9063 - val_loss: 0.3925 - val_accuracy: 0.8860\n",
            "Epoch 20/300\n",
            "375/375 [==============================] - 7s 20ms/step - loss: 0.2607 - accuracy: 0.9089 - val_loss: 0.4024 - val_accuracy: 0.8877\n",
            "Epoch 21/300\n",
            "375/375 [==============================] - 8s 20ms/step - loss: 0.2640 - accuracy: 0.9063 - val_loss: 0.3911 - val_accuracy: 0.8900\n",
            "Epoch 22/300\n",
            "375/375 [==============================] - 7s 20ms/step - loss: 0.2574 - accuracy: 0.9079 - val_loss: 0.4423 - val_accuracy: 0.8886\n",
            "Epoch 23/300\n",
            "375/375 [==============================] - 7s 20ms/step - loss: 0.2551 - accuracy: 0.9107 - val_loss: 0.4452 - val_accuracy: 0.8883\n",
            "Epoch 24/300\n",
            "375/375 [==============================] - 8s 20ms/step - loss: 0.2484 - accuracy: 0.9095 - val_loss: 0.4145 - val_accuracy: 0.8951\n",
            "Epoch 25/300\n",
            "375/375 [==============================] - 7s 19ms/step - loss: 0.2504 - accuracy: 0.9115 - val_loss: 0.4140 - val_accuracy: 0.8898\n",
            "Epoch 26/300\n",
            "375/375 [==============================] - 7s 20ms/step - loss: 0.2417 - accuracy: 0.9134 - val_loss: 0.4561 - val_accuracy: 0.8875\n",
            "Epoch 27/300\n",
            "375/375 [==============================] - 7s 20ms/step - loss: 0.2488 - accuracy: 0.9121 - val_loss: 0.4551 - val_accuracy: 0.8948\n",
            "Epoch 28/300\n",
            "375/375 [==============================] - 7s 20ms/step - loss: 0.2470 - accuracy: 0.9135 - val_loss: 0.4311 - val_accuracy: 0.8919\n",
            "Epoch 29/300\n",
            "375/375 [==============================] - 7s 20ms/step - loss: 0.2436 - accuracy: 0.9146 - val_loss: 0.4206 - val_accuracy: 0.8966\n",
            "Epoch 30/300\n",
            "375/375 [==============================] - 7s 19ms/step - loss: 0.2364 - accuracy: 0.9170 - val_loss: 0.4161 - val_accuracy: 0.8957\n",
            "Epoch 31/300\n",
            "375/375 [==============================] - 7s 20ms/step - loss: 0.2389 - accuracy: 0.9163 - val_loss: 0.4534 - val_accuracy: 0.8909\n",
            "Epoch 32/300\n",
            "375/375 [==============================] - 7s 20ms/step - loss: 0.2345 - accuracy: 0.9189 - val_loss: 0.4456 - val_accuracy: 0.8962\n",
            "Epoch 33/300\n",
            "375/375 [==============================] - 7s 20ms/step - loss: 0.2356 - accuracy: 0.9190 - val_loss: 0.5156 - val_accuracy: 0.8932\n",
            "Epoch 34/300\n",
            "375/375 [==============================] - 7s 19ms/step - loss: 0.2365 - accuracy: 0.9187 - val_loss: 0.4689 - val_accuracy: 0.8882\n",
            "Epoch 35/300\n",
            "375/375 [==============================] - 7s 20ms/step - loss: 0.2263 - accuracy: 0.9207 - val_loss: 0.5608 - val_accuracy: 0.8882\n",
            "Epoch 36/300\n",
            "375/375 [==============================] - 7s 20ms/step - loss: 0.2290 - accuracy: 0.9195 - val_loss: 0.5241 - val_accuracy: 0.8950\n",
            "Epoch 37/300\n",
            "375/375 [==============================] - 7s 20ms/step - loss: 0.2300 - accuracy: 0.9220 - val_loss: 0.4955 - val_accuracy: 0.8958\n",
            "Epoch 38/300\n",
            "375/375 [==============================] - 7s 20ms/step - loss: 0.2287 - accuracy: 0.9213 - val_loss: 0.5209 - val_accuracy: 0.8919\n",
            "Epoch 39/300\n",
            "375/375 [==============================] - 7s 19ms/step - loss: 0.2247 - accuracy: 0.9221 - val_loss: 0.5253 - val_accuracy: 0.8901\n",
            "Epoch 40/300\n",
            "375/375 [==============================] - 8s 20ms/step - loss: 0.2253 - accuracy: 0.9222 - val_loss: 0.5068 - val_accuracy: 0.8925\n",
            "Epoch 41/300\n",
            "375/375 [==============================] - 7s 20ms/step - loss: 0.2196 - accuracy: 0.9244 - val_loss: 0.5452 - val_accuracy: 0.8872\n",
            "Epoch 42/300\n",
            "375/375 [==============================] - 7s 20ms/step - loss: 0.2254 - accuracy: 0.9218 - val_loss: 0.5117 - val_accuracy: 0.8953\n",
            "Epoch 43/300\n",
            "375/375 [==============================] - 7s 20ms/step - loss: 0.2154 - accuracy: 0.9251 - val_loss: 0.5079 - val_accuracy: 0.8947\n",
            "Epoch 44/300\n",
            "375/375 [==============================] - 7s 20ms/step - loss: 0.2215 - accuracy: 0.9254 - val_loss: 0.5254 - val_accuracy: 0.8932\n",
            "Epoch 45/300\n",
            "375/375 [==============================] - 7s 20ms/step - loss: 0.2171 - accuracy: 0.9278 - val_loss: 0.5157 - val_accuracy: 0.8898\n",
            "Epoch 46/300\n",
            "375/375 [==============================] - 7s 20ms/step - loss: 0.2132 - accuracy: 0.9271 - val_loss: 0.5585 - val_accuracy: 0.8903\n",
            "Epoch 47/300\n",
            "375/375 [==============================] - 7s 20ms/step - loss: 0.2188 - accuracy: 0.9272 - val_loss: 0.5563 - val_accuracy: 0.8951\n",
            "Epoch 48/300\n",
            "375/375 [==============================] - 8s 20ms/step - loss: 0.2156 - accuracy: 0.9274 - val_loss: 0.5256 - val_accuracy: 0.8968\n",
            "Epoch 49/300\n",
            "375/375 [==============================] - 7s 20ms/step - loss: 0.2135 - accuracy: 0.9275 - val_loss: 0.5422 - val_accuracy: 0.8968\n",
            "Epoch 50/300\n",
            "375/375 [==============================] - 7s 20ms/step - loss: 0.2126 - accuracy: 0.9290 - val_loss: 0.5376 - val_accuracy: 0.8964\n",
            "Epoch 51/300\n",
            "375/375 [==============================] - 7s 20ms/step - loss: 0.2108 - accuracy: 0.9291 - val_loss: 0.5885 - val_accuracy: 0.8984\n",
            "Epoch 52/300\n",
            "375/375 [==============================] - 7s 20ms/step - loss: 0.2098 - accuracy: 0.9290 - val_loss: 0.6031 - val_accuracy: 0.8958\n",
            "Epoch 53/300\n",
            "375/375 [==============================] - 7s 19ms/step - loss: 0.2120 - accuracy: 0.9293 - val_loss: 0.5909 - val_accuracy: 0.8931\n",
            "Epoch 54/300\n",
            "375/375 [==============================] - 7s 19ms/step - loss: 0.2077 - accuracy: 0.9305 - val_loss: 0.6478 - val_accuracy: 0.8993\n",
            "Epoch 55/300\n",
            "375/375 [==============================] - 7s 19ms/step - loss: 0.2062 - accuracy: 0.9300 - val_loss: 0.6010 - val_accuracy: 0.8950\n",
            "Epoch 56/300\n",
            "375/375 [==============================] - 7s 20ms/step - loss: 0.2022 - accuracy: 0.9321 - val_loss: 0.6345 - val_accuracy: 0.9002\n",
            "Epoch 57/300\n",
            "375/375 [==============================] - 7s 20ms/step - loss: 0.2014 - accuracy: 0.9318 - val_loss: 0.6862 - val_accuracy: 0.8897\n",
            "Epoch 58/300\n",
            "375/375 [==============================] - 7s 19ms/step - loss: 0.2028 - accuracy: 0.9319 - val_loss: 0.6165 - val_accuracy: 0.8928\n",
            "Epoch 59/300\n",
            "375/375 [==============================] - 7s 19ms/step - loss: 0.2003 - accuracy: 0.9316 - val_loss: 0.6783 - val_accuracy: 0.8875\n",
            "Epoch 60/300\n",
            "375/375 [==============================] - 7s 20ms/step - loss: 0.2070 - accuracy: 0.9329 - val_loss: 0.6656 - val_accuracy: 0.8988\n",
            "Epoch 61/300\n",
            "375/375 [==============================] - 8s 20ms/step - loss: 0.1955 - accuracy: 0.9344 - val_loss: 0.6420 - val_accuracy: 0.8962\n",
            "Epoch 62/300\n",
            "375/375 [==============================] - 7s 20ms/step - loss: 0.1942 - accuracy: 0.9333 - val_loss: 0.6852 - val_accuracy: 0.8941\n",
            "Epoch 63/300\n",
            "375/375 [==============================] - 7s 19ms/step - loss: 0.1991 - accuracy: 0.9339 - val_loss: 0.6641 - val_accuracy: 0.8922\n",
            "Epoch 64/300\n",
            "375/375 [==============================] - 7s 19ms/step - loss: 0.1930 - accuracy: 0.9358 - val_loss: 0.6832 - val_accuracy: 0.8925\n",
            "Epoch 65/300\n",
            "375/375 [==============================] - 7s 19ms/step - loss: 0.2104 - accuracy: 0.9332 - val_loss: 0.6896 - val_accuracy: 0.8956\n",
            "Epoch 66/300\n",
            "375/375 [==============================] - 7s 19ms/step - loss: 0.1902 - accuracy: 0.9375 - val_loss: 0.7522 - val_accuracy: 0.8980\n",
            "Epoch 67/300\n",
            "375/375 [==============================] - 7s 19ms/step - loss: 0.2015 - accuracy: 0.9349 - val_loss: 0.7148 - val_accuracy: 0.8957\n",
            "Epoch 68/300\n",
            "375/375 [==============================] - 7s 19ms/step - loss: 0.1906 - accuracy: 0.9378 - val_loss: 0.7419 - val_accuracy: 0.8972\n",
            "Epoch 69/300\n",
            "375/375 [==============================] - 7s 19ms/step - loss: 0.1980 - accuracy: 0.9357 - val_loss: 0.6940 - val_accuracy: 0.8989\n",
            "Epoch 70/300\n",
            "375/375 [==============================] - 7s 20ms/step - loss: 0.1993 - accuracy: 0.9359 - val_loss: 0.7917 - val_accuracy: 0.8914\n",
            "Epoch 71/300\n",
            "375/375 [==============================] - 7s 20ms/step - loss: 0.1972 - accuracy: 0.9352 - val_loss: 0.7054 - val_accuracy: 0.8923\n",
            "Epoch 72/300\n",
            "375/375 [==============================] - 7s 20ms/step - loss: 0.1893 - accuracy: 0.9375 - val_loss: 0.7788 - val_accuracy: 0.8937\n",
            "Epoch 73/300\n",
            "375/375 [==============================] - 7s 20ms/step - loss: 0.1955 - accuracy: 0.9378 - val_loss: 0.7945 - val_accuracy: 0.8975\n",
            "Epoch 74/300\n",
            "375/375 [==============================] - 7s 19ms/step - loss: 0.1900 - accuracy: 0.9378 - val_loss: 0.7663 - val_accuracy: 0.8947\n",
            "Epoch 75/300\n",
            "375/375 [==============================] - 7s 20ms/step - loss: 0.1865 - accuracy: 0.9379 - val_loss: 0.7621 - val_accuracy: 0.8985\n",
            "Epoch 76/300\n",
            "375/375 [==============================] - 7s 20ms/step - loss: 0.1924 - accuracy: 0.9389 - val_loss: 0.7185 - val_accuracy: 0.8947\n",
            "Epoch 77/300\n",
            "375/375 [==============================] - 7s 20ms/step - loss: 0.1838 - accuracy: 0.9386 - val_loss: 0.8174 - val_accuracy: 0.8919\n",
            "Epoch 78/300\n",
            "375/375 [==============================] - 7s 20ms/step - loss: 0.1844 - accuracy: 0.9388 - val_loss: 0.8203 - val_accuracy: 0.8987\n",
            "Epoch 79/300\n",
            "375/375 [==============================] - 7s 19ms/step - loss: 0.1878 - accuracy: 0.9394 - val_loss: 0.7944 - val_accuracy: 0.8955\n",
            "Epoch 80/300\n",
            "375/375 [==============================] - 7s 19ms/step - loss: 0.1866 - accuracy: 0.9387 - val_loss: 0.7961 - val_accuracy: 0.8977\n",
            "Epoch 81/300\n",
            "375/375 [==============================] - 8s 20ms/step - loss: 0.1859 - accuracy: 0.9401 - val_loss: 0.7523 - val_accuracy: 0.8944\n",
            "Epoch 82/300\n",
            "375/375 [==============================] - 7s 20ms/step - loss: 0.1823 - accuracy: 0.9393 - val_loss: 0.8381 - val_accuracy: 0.8907\n",
            "Epoch 83/300\n",
            "375/375 [==============================] - 7s 20ms/step - loss: 0.1851 - accuracy: 0.9394 - val_loss: 0.7979 - val_accuracy: 0.8946\n",
            "Epoch 84/300\n",
            "375/375 [==============================] - 7s 19ms/step - loss: 0.1898 - accuracy: 0.9401 - val_loss: 0.8233 - val_accuracy: 0.8964\n",
            "Epoch 85/300\n",
            "375/375 [==============================] - 7s 20ms/step - loss: 0.1802 - accuracy: 0.9393 - val_loss: 0.7944 - val_accuracy: 0.8964\n",
            "Epoch 86/300\n",
            "375/375 [==============================] - 7s 20ms/step - loss: 0.1774 - accuracy: 0.9422 - val_loss: 0.8874 - val_accuracy: 0.8923\n",
            "Epoch 87/300\n",
            "375/375 [==============================] - 7s 19ms/step - loss: 0.1803 - accuracy: 0.9417 - val_loss: 0.9077 - val_accuracy: 0.8934\n",
            "Epoch 88/300\n",
            "375/375 [==============================] - 7s 19ms/step - loss: 0.1889 - accuracy: 0.9406 - val_loss: 0.8345 - val_accuracy: 0.8971\n",
            "Epoch 89/300\n",
            "375/375 [==============================] - 7s 19ms/step - loss: 0.1731 - accuracy: 0.9418 - val_loss: 0.8538 - val_accuracy: 0.8960\n",
            "Epoch 90/300\n",
            "375/375 [==============================] - 7s 19ms/step - loss: 0.1810 - accuracy: 0.9438 - val_loss: 0.9404 - val_accuracy: 0.8975\n",
            "Epoch 91/300\n",
            "375/375 [==============================] - 7s 19ms/step - loss: 0.1867 - accuracy: 0.9427 - val_loss: 0.9000 - val_accuracy: 0.8925\n",
            "Epoch 92/300\n",
            "375/375 [==============================] - 7s 19ms/step - loss: 0.1747 - accuracy: 0.9433 - val_loss: 0.8520 - val_accuracy: 0.8980\n",
            "Epoch 93/300\n",
            "375/375 [==============================] - 7s 19ms/step - loss: 0.1797 - accuracy: 0.9439 - val_loss: 0.8351 - val_accuracy: 0.8953\n",
            "Epoch 94/300\n",
            "375/375 [==============================] - 7s 19ms/step - loss: 0.1717 - accuracy: 0.9437 - val_loss: 0.9206 - val_accuracy: 0.8952\n",
            "Epoch 95/300\n",
            "375/375 [==============================] - 7s 19ms/step - loss: 0.1726 - accuracy: 0.9432 - val_loss: 0.8989 - val_accuracy: 0.8913\n",
            "Epoch 96/300\n",
            "375/375 [==============================] - 7s 19ms/step - loss: 0.1765 - accuracy: 0.9430 - val_loss: 0.9829 - val_accuracy: 0.8994\n",
            "Epoch 97/300\n",
            "375/375 [==============================] - 7s 19ms/step - loss: 0.1757 - accuracy: 0.9443 - val_loss: 0.8971 - val_accuracy: 0.8961\n",
            "Epoch 98/300\n",
            "375/375 [==============================] - 7s 20ms/step - loss: 0.1767 - accuracy: 0.9442 - val_loss: 0.8906 - val_accuracy: 0.8991\n",
            "Epoch 99/300\n",
            "375/375 [==============================] - 7s 19ms/step - loss: 0.1763 - accuracy: 0.9443 - val_loss: 0.8778 - val_accuracy: 0.8990\n",
            "Epoch 100/300\n",
            "375/375 [==============================] - 7s 20ms/step - loss: 0.1690 - accuracy: 0.9456 - val_loss: 1.0702 - val_accuracy: 0.8928\n",
            "Epoch 101/300\n",
            "375/375 [==============================] - 7s 20ms/step - loss: 0.1655 - accuracy: 0.9454 - val_loss: 1.0590 - val_accuracy: 0.9005\n",
            "Epoch 102/300\n",
            "375/375 [==============================] - 8s 20ms/step - loss: 0.1728 - accuracy: 0.9445 - val_loss: 1.0168 - val_accuracy: 0.8953\n",
            "Epoch 103/300\n",
            "375/375 [==============================] - 7s 20ms/step - loss: 0.1651 - accuracy: 0.9463 - val_loss: 0.9686 - val_accuracy: 0.8984\n",
            "Epoch 104/300\n",
            "375/375 [==============================] - 7s 19ms/step - loss: 0.1823 - accuracy: 0.9447 - val_loss: 0.9766 - val_accuracy: 0.8984\n",
            "Epoch 105/300\n",
            "375/375 [==============================] - 7s 20ms/step - loss: 0.1698 - accuracy: 0.9450 - val_loss: 1.0555 - val_accuracy: 0.8954\n",
            "Epoch 106/300\n",
            "375/375 [==============================] - 7s 19ms/step - loss: 0.1793 - accuracy: 0.9487 - val_loss: 1.0047 - val_accuracy: 0.8947\n",
            "Epoch 107/300\n",
            "375/375 [==============================] - 7s 19ms/step - loss: 0.1791 - accuracy: 0.9454 - val_loss: 1.0050 - val_accuracy: 0.8907\n",
            "Epoch 108/300\n",
            "375/375 [==============================] - 7s 20ms/step - loss: 0.1677 - accuracy: 0.9480 - val_loss: 1.0643 - val_accuracy: 0.8959\n",
            "Epoch 109/300\n",
            "375/375 [==============================] - 7s 20ms/step - loss: 0.1785 - accuracy: 0.9464 - val_loss: 1.0244 - val_accuracy: 0.9009\n"
          ]
        }
      ]
    },
    {
      "cell_type": "code",
      "source": [
        "#đánh giá chất lượng của mô hình và vẽ lại\n",
        "score = model.evaluate(x_test,y_test,verbose=0)\n",
        "print('Sai số kiểm tra là: ',score[0])\n",
        "print('Độ chính xác kiểm tra là: ',score[1])\n",
        "#vẽ đồ thị\n",
        "plt.plot(history.history['accuracy'])\n",
        "plt.plot(history.history['val_accuracy'])\n",
        "plt.title('model accuracy')\n",
        "plt.ylabel('accuracy')\n",
        "plt.xlabel('epochs')\n",
        "plt.legend(['train','Validation'])\n",
        "plt.show()"
      ],
      "metadata": {
        "colab": {
          "base_uri": "https://localhost:8080/",
          "height": 330
        },
        "id": "vTUGmu-dnI0T",
        "outputId": "1d8c9b49-c078-47ed-aaa4-390ecc5f74d2"
      },
      "execution_count": 7,
      "outputs": [
        {
          "output_type": "stream",
          "name": "stdout",
          "text": [
            "Sai số kiểm tra là:  1.2403929233551025\n",
            "Độ chính xác kiểm tra là:  0.8938999772071838\n"
          ]
        },
        {
          "output_type": "display_data",
          "data": {
            "text/plain": [
              "<Figure size 432x288 with 1 Axes>"
            ],
            "image/png": "[encoded data removed]"
          },
          "metadata": {
            "needs_background": "light"
          }
        }
      ]
    },
    {
      "cell_type": "code",
      "source": [
        ""
      ],
      "metadata": {
        "id": "-AVP_EYQ0sEb"
      },
      "execution_count": 7,
      "outputs": []
    }
  ]
}